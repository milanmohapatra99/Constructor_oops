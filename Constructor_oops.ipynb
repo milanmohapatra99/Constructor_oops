{
 "cells": [
  {
   "cell_type": "code",
   "execution_count": 2,
   "id": "762e8aa0",
   "metadata": {},
   "outputs": [
    {
     "name": "stdout",
     "output_type": "stream",
     "text": [
      "Employee is created!\n",
      "The name of the employee is peter\n",
      "The salary of the employee is 100\n",
      "The subunit of the employee is Google\n"
     ]
    }
   ],
   "source": [
    "class Employee:\n",
    "    company = \"Google\"\n",
    "\n",
    "    def __init__(self, name, salary, subunit):\n",
    "        self.name = name\n",
    "        self.salary = salary\n",
    "        self.subunit = subunit\n",
    "        print(\"Employee is created!\") \n",
    "\n",
    "    def getDetails(self):\n",
    "        print(f\"The name of the employee is {self.name}\")\n",
    "        print(f\"The salary of the employee is {self.salary}\")\n",
    "        print(f\"The subunit of the employee is {self.subunit}\")\n",
    "\n",
    "    def getSalary(self, signature):\n",
    "        print(f\"Salary for this employee working in {self.company} is {self.salary}\\n{signature}\")\n",
    "\n",
    "    @staticmethod\n",
    "    def greet():\n",
    "        print(\"Good Morning, Sir\")\n",
    "\n",
    "    @staticmethod\n",
    "    def time():\n",
    "        print(\"The time is 9AM in the morning\")\n",
    "\n",
    "peter = Employee(\"peter\", 100, \"Google\")\n",
    "\n",
    "peter.getDetails()"
   ]
  },
  {
   "cell_type": "code",
   "execution_count": null,
   "id": "c3f0a642",
   "metadata": {},
   "outputs": [],
   "source": []
  }
 ],
 "metadata": {
  "kernelspec": {
   "display_name": "Python 3 (ipykernel)",
   "language": "python",
   "name": "python3"
  },
  "language_info": {
   "codemirror_mode": {
    "name": "ipython",
    "version": 3
   },
   "file_extension": ".py",
   "mimetype": "text/x-python",
   "name": "python",
   "nbconvert_exporter": "python",
   "pygments_lexer": "ipython3",
   "version": "3.9.7"
  }
 },
 "nbformat": 4,
 "nbformat_minor": 5
}
